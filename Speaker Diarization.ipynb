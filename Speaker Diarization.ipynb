{
 "cells": [
  {
   "cell_type": "code",
   "execution_count": 30,
   "metadata": {},
   "outputs": [],
   "source": [
    "from google.cloud import speech_v1p1beta1\n",
    "import io\n",
    "\n",
    "import os\n",
    "\n",
    "os.environ[\"GOOGLE_APPLICATION_CREDENTIALS\"] = \"C:/Users/acham/Desktop/robobootcamp-5923adb81393.json\"\n",
    "\n",
    "words = {}\n",
    "\n",
    "def sample_long_running_recognize(local_file_path):\n",
    "    \"\"\"\n",
    "    Print confidence level for individual words in a transcription of a short audio\n",
    "    file\n",
    "    Separating different speakers in an audio file recording\n",
    "\n",
    "    Args:\n",
    "      local_file_path Path to local audio file, e.g. /path/audio.wav\n",
    "    \"\"\"\n",
    "\n",
    "    client = speech_v1p1beta1.SpeechClient()\n",
    "\n",
    "    #local_file_path = '.data/audio/final_interview/chunk0'\n",
    "\n",
    "    # If enabled, each word in the first alternative of each result will be\n",
    "    # tagged with a speaker tag to identify the speaker.\n",
    "    enable_speaker_diarization = True\n",
    "\n",
    "    # Optional. Specifies the estimated number of speakers in the conversation.\n",
    "    diarization_speaker_count = 2\n",
    "\n",
    "    # The language of the supplied audio\n",
    "    language_code = \"en-US\"\n",
    "    config = {\n",
    "        \"enable_speaker_diarization\": enable_speaker_diarization,\n",
    "        \"diarization_speaker_count\": diarization_speaker_count,\n",
    "        \"language_code\": language_code,\n",
    "    }\n",
    "    with io.open(local_file_path, \"rb\") as f:\n",
    "        content = f.read()\n",
    "    audio = {\"content\": content}\n",
    "\n",
    "    operation = client.long_running_recognize(config, audio)\n",
    "\n",
    "    print(u\"Waiting for operation to complete...\")\n",
    "    response = operation.result()\n",
    "\n",
    "    for result in response.results:\n",
    "        # First alternative has words tagged with speakers\n",
    "        alternative = result.alternatives[0]\n",
    "        #print(u\"Transcript: {}\".format(alternative.transcript))\n",
    "        # Print the speaker_tag of each word\n",
    "        for word in alternative.words:\n",
    "            if (str(word.speaker_tag) not in words):\n",
    "                words[str(word.speaker_tag)] = list() \n",
    "            else:\n",
    "                words[str(word.speaker_tag)].append(word.word) \n",
    "            #print(u\"Word: {}\".format(word.word))\n",
    "            #print(u\"Speaker tag: {}\".format(word.speaker_tag))\n",
    "\n",
    "    for key, value in words.items():\n",
    "        print(\"Speaker \" +key+\":\" + ' '.join(value))"
   ]
  },
  {
   "cell_type": "code",
   "execution_count": 31,
   "metadata": {},
   "outputs": [
    {
     "name": "stdout",
     "output_type": "stream",
     "text": [
      "Waiting for operation to complete...\n",
      "Speaker 0:on phone for years but one that I've been working on for years and trying to understand it is there enough time to\n",
      "Speaker 1:on phone for understand it is\n",
      "Speaker 2:but one that I've been working on for years and trying to there enough time to\n"
     ]
    }
   ],
   "source": [
    "sample_long_running_recognize('./chunk41.wav')"
   ]
  },
  {
   "cell_type": "code",
   "execution_count": null,
   "metadata": {},
   "outputs": [],
   "source": []
  }
 ],
 "metadata": {
  "kernelspec": {
   "display_name": "Python 3",
   "language": "python",
   "name": "python3"
  },
  "language_info": {
   "codemirror_mode": {
    "name": "ipython",
    "version": 3
   },
   "file_extension": ".py",
   "mimetype": "text/x-python",
   "name": "python",
   "nbconvert_exporter": "python",
   "pygments_lexer": "ipython3",
   "version": "3.7.6"
  }
 },
 "nbformat": 4,
 "nbformat_minor": 4
}
